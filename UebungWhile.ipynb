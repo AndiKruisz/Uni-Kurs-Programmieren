{
 "cells": [
  {
   "cell_type": "markdown",
   "metadata": {},
   "source": [
    "Aufgabe Ablaufdiagramme:\n",
    "\n",
    "Zeichnene Sie für die Codefragmente auf Folie 31 und Folie 32 (Variante 1 und 2) das jeweilige Ablaufdiagramm"
   ]
  },
  {
   "cell_type": "markdown",
   "metadata": {},
   "source": [
    "Zeichnen Sie für die folgenden Aufgaben das entsprechende Ablaufdiagramm, bevor Sie mit der Umsetzung beginnen."
   ]
  },
  {
   "cell_type": "markdown",
   "metadata": {},
   "source": [
    "Geben Sie die Zahlen -10 bis +10 in 1er-Schritten aus"
   ]
  },
  {
   "cell_type": "code",
   "execution_count": 12,
   "metadata": {},
   "outputs": [
    {
     "name": "stdout",
     "output_type": "stream",
     "text": [
      "-10\n",
      "-9\n",
      "-8\n",
      "-7\n",
      "-6\n",
      "-5\n",
      "-4\n",
      "-3\n",
      "-2\n",
      "-1\n",
      "0\n",
      "1\n",
      "2\n",
      "3\n",
      "4\n",
      "5\n",
      "6\n",
      "7\n",
      "8\n",
      "9\n",
      "10\n"
     ]
    }
   ],
   "source": [
    "i=-10\n",
    "while i<=10:\n",
    "    print(i)\n",
    "    i+=1"
   ]
  },
  {
   "cell_type": "markdown",
   "metadata": {},
   "source": [
    "Geben Sie die Zahlen 100 bis 1 in 1er-Schritten absteigend aus"
   ]
  },
  {
   "cell_type": "code",
   "execution_count": 20,
   "metadata": {},
   "outputs": [
    {
     "name": "stdout",
     "output_type": "stream",
     "text": [
      "100\n",
      "90\n",
      "80\n",
      "70\n",
      "60\n",
      "50\n",
      "40\n",
      "30\n",
      "20\n",
      "10\n",
      "0\n"
     ]
    }
   ],
   "source": [
    "y=100\n",
    "while y>=0:\n",
    "    print(y)\n",
    "    y-=10"
   ]
  },
  {
   "cell_type": "markdown",
   "metadata": {},
   "source": [
    "Geben Sie die Zahlen 10, 20, 30, .......200 aus"
   ]
  },
  {
   "cell_type": "code",
   "execution_count": 21,
   "metadata": {},
   "outputs": [
    {
     "name": "stdout",
     "output_type": "stream",
     "text": [
      "10\n",
      "20\n",
      "30\n",
      "40\n",
      "50\n",
      "60\n",
      "70\n",
      "80\n",
      "90\n",
      "100\n",
      "110\n",
      "120\n",
      "130\n",
      "140\n",
      "150\n",
      "160\n",
      "170\n",
      "180\n",
      "190\n",
      "200\n"
     ]
    }
   ],
   "source": [
    "i=10\n",
    "while i<=200:\n",
    "    print(i)\n",
    "    i+=10"
   ]
  },
  {
   "cell_type": "markdown",
   "metadata": {},
   "source": [
    "Geben Sie die Zahlen 1, 2, 4, 8, 16, .....aus, bis Sie den Wert 100000 überschreiten"
   ]
  },
  {
   "cell_type": "code",
   "execution_count": 23,
   "metadata": {},
   "outputs": [
    {
     "name": "stdout",
     "output_type": "stream",
     "text": [
      "1\n",
      "2\n",
      "4\n",
      "8\n",
      "16\n",
      "32\n",
      "64\n",
      "128\n",
      "256\n",
      "512\n",
      "1024\n",
      "2048\n",
      "4096\n",
      "8192\n",
      "16384\n",
      "32768\n",
      "65536\n",
      "131072\n"
     ]
    }
   ],
   "source": [
    "i=1\n",
    "while i<150000:\n",
    "    print(i)\n",
    "    i=i*2"
   ]
  },
  {
   "cell_type": "markdown",
   "metadata": {},
   "source": [
    "Geben Sie die Zahlen 1 bis 100 aus, wobei Zahlen, die durch 3 oder 5 ohne Rest teilbar sind nicht ausgegeben werden sollen"
   ]
  },
  {
   "cell_type": "code",
   "execution_count": 13,
   "metadata": {},
   "outputs": [
    {
     "name": "stdout",
     "output_type": "stream",
     "text": [
      "1\n",
      "2\n",
      "4\n",
      "7\n",
      "8\n",
      "11\n",
      "13\n",
      "14\n",
      "16\n",
      "17\n",
      "19\n",
      "22\n",
      "23\n",
      "26\n",
      "28\n",
      "29\n",
      "31\n",
      "32\n",
      "34\n",
      "37\n",
      "38\n",
      "41\n",
      "43\n",
      "44\n",
      "46\n",
      "47\n",
      "49\n",
      "52\n",
      "53\n",
      "56\n",
      "58\n",
      "59\n",
      "61\n",
      "62\n",
      "64\n",
      "67\n",
      "68\n",
      "71\n",
      "73\n",
      "74\n",
      "76\n",
      "77\n",
      "79\n",
      "82\n",
      "83\n",
      "86\n",
      "88\n",
      "89\n",
      "91\n",
      "92\n",
      "94\n",
      "97\n",
      "98\n"
     ]
    }
   ],
   "source": [
    "for i in range(1, 101):\n",
    "    if i % 3 != 0 and i % 5 != 0:\n",
    "        print(i)\n"
   ]
  },
  {
   "cell_type": "markdown",
   "metadata": {},
   "source": [
    "Sie wollen die Zahlen von 10 bis 0 bis 10 ausgeben, wobei Sie nur EINE schleife verwenden dürfen."
   ]
  },
  {
   "cell_type": "code",
   "execution_count": 1,
   "metadata": {},
   "outputs": [
    {
     "name": "stdout",
     "output_type": "stream",
     "text": [
      "10\n",
      "9\n",
      "8\n",
      "7\n",
      "6\n",
      "5\n",
      "4\n",
      "3\n",
      "2\n",
      "1\n",
      "0\n",
      "1\n",
      "2\n",
      "3\n",
      "4\n",
      "5\n",
      "6\n",
      "7\n",
      "8\n",
      "9\n",
      "10\n"
     ]
    }
   ],
   "source": [
    "i = 10\n",
    "schritte = -1\n",
    "\n",
    "while True:\n",
    "    print(i)\n",
    "    if i == 0:\n",
    "        schritte = 1\n",
    "    if i == 10 and schritte == 1:\n",
    "        break\n",
    "    i += schritte"
   ]
  },
  {
   "cell_type": "markdown",
   "metadata": {},
   "source": [
    "Sie wollen die Zahlen von 5 bis -5 in 1er-Schritten absteigend ausgeben. Nach Ausgabe der Zahl 0 soll der Benutzer aber gefragt werden, ob er tatsächlich auch negative Zahlen ausgeben will."
   ]
  },
  {
   "cell_type": "code",
   "execution_count": 5,
   "metadata": {},
   "outputs": [
    {
     "name": "stdout",
     "output_type": "stream",
     "text": [
      "5\n",
      "4\n",
      "3\n",
      "2\n",
      "1\n",
      "0\n"
     ]
    }
   ],
   "source": [
    "i = 5\n",
    "schritte = -1\n",
    "\n",
    "while i >= -5:\n",
    "    print(i)\n",
    "\n",
    "    if i == 0:\n",
    "        entscheidung = input ('Sollen auch negative Zahlen ausgegeben werden? J oder N')\n",
    "        if entscheidung == \"N\":\n",
    "            break\n",
    "        else:\n",
    "            schritte = -1\n",
    "\n",
    "    i += schritte"
   ]
  },
  {
   "cell_type": "markdown",
   "metadata": {},
   "source": [
    "Sie wollen das kleine Einmaleins für die Zahlen 1 bis 10 darstellen.\n",
    "\n",
    "Wer nicht weiss, was das kleine Einmaleins ist: man beginnt mit 1*1, dann 1*2, dann 1*3 ,......bis 1*10.\n",
    "\n",
    "Dann setzt man das ganze mit 2*1, 2*2, 2*3, ....... bis 2*10 fort.\n",
    "\n",
    "Das ganze geht weiter, bis man bei 10*10 angekommen ist.\n",
    "\n",
    "Die Ausgabe soll beispielhaft für eine Berechnung so aussehen: 1 * 1 = 1"
   ]
  },
  {
   "cell_type": "code",
   "execution_count": null,
   "metadata": {},
   "outputs": [],
   "source": [
    "#Ihr Code"
   ]
  },
  {
   "cell_type": "markdown",
   "metadata": {},
   "source": [
    "Diese Angabe wurde schon bei der Seminarübung zu if-elif-else umgesetzt. Sie können gerne den Code aus Ihrer Lösung kopieren.\n",
    "\n",
    "Für einen Kinobesuch gelten unterschiedliche Preise je Alter.\n",
    "\n",
    "Kinder (unter 12 Jahren) zahlen 5 €.\n",
    "\n",
    "Jugendliche (12 bis 17 Jahre) zahlen 8 €.\n",
    "\n",
    "Erwachsene (18 bis 64 Jahre) zahlen 12 €.\n",
    "\n",
    "Senioren (65 Jahre und älter) zahlen 6 €.\n",
    "\n",
    "Fragen Sie den Benutzer nach seinem Alter, ermitteln Sie den jeweiligen Preis und geben Sie einen schönen Text aus (z. B. Sie zahlen € 8 für Ihre Karte).\n",
    "\n",
    "Erweitern Sie das Programm und fragen Sie auch nach dem Wochentag. Am Dienstag und am Donnerstag gibt es 2 € Rabatt.\n",
    "\n",
    "Erweiterung: \n",
    "\n",
    "Legen Sie um den Code eine Programmschleife, die den Benutzer am Ende fragt, ob er einen weiteren Kinobesucher eingeben will.\n",
    "\n",
    "Passen Sie das zu dieser Aufgabe erstellte Ablaufdiagramm an."
   ]
  },
  {
   "cell_type": "code",
   "execution_count": null,
   "metadata": {},
   "outputs": [],
   "source": [
    "#Ihr Code"
   ]
  },
  {
   "cell_type": "markdown",
   "metadata": {},
   "source": [
    "Diese Angabe wurde schon bei der Seminarübung zu if-elif-else umgesetzt. Sie können gerne den Code aus Ihrer Lösung kopieren.\n",
    "\n",
    "Sie wollen aus den maximalen und erreichten Punkten bei einem Test die Note ermitteln.\n",
    "\n",
    "Fragen Sie den Benutzer nach der maximal möglichen Punktezahl.\n",
    "\n",
    "Fragen Sie den Benutzer nach der erreichten Punktezahl.\n",
    "\n",
    "Ermitteln Sie die Prozente (Formel: erreicht / maximal).\n",
    "\n",
    "Es gilt folgender Notenschlüssel:\n",
    "\n",
    "unter 60% => nicht genügend\n",
    "\n",
    "unter 70% => genügend\n",
    "\n",
    "unter 80% => befriedigend\n",
    "\n",
    "unter 90% => gut\n",
    "\n",
    "darüber => sehr gut\n",
    "\n",
    "Geben Sie die Note in folgender Form aus: \n",
    "\n",
    "Sie haben 75 von 100 Punkten, das sind 75% und ergibt die Note Befriedigend.\n",
    "\n",
    "Erweiterung: \n",
    "\n",
    "Legen Sie um den Code bzw. Teile Ihres Codes eine Programmschleife, die den Benutzer am Ende fragt, ob er einen weiteren Test eingeben will (entscheiden Sie selbst, ob es Sinn macht, immer wieder die maximale Punkteanzahl einzugeben).\n",
    "\n",
    "Passen Sie die Frage nach der erreichten Punktezahl so an, dass der Benutzer immer wieder gefragt wird, wenn die Eingabe der erreichten Punktezahl grösser als die maximale Punktezahl ist (weissen Sie den Benutzer auch auf seinen Fehler hin, bevor Sie die Eingabe erneut starten).\n",
    "\n",
    "Passen Sie das zu dieser Aufgabe erstellte Ablaufdiagramm an."
   ]
  },
  {
   "cell_type": "code",
   "execution_count": null,
   "metadata": {},
   "outputs": [],
   "source": [
    "#Ihr Code"
   ]
  },
  {
   "cell_type": "markdown",
   "metadata": {},
   "source": [
    "Diese Angabe wurde schon bei der Seminarübung zu if-elif-else umgesetzt. Sie können gerne den Code aus Ihrer Lösung kopieren.\n",
    "\n",
    "Lesen Sie vom Benutzer eine Artikelbezeichnung, einen Stückpreis und die bestellte Anzahl ein.\n",
    "\n",
    "Ermitteln Sie den Gesamtpreis und geben Sie diese in einem schönen Text aus (am besten mit einem f-String)\n",
    "\n",
    "Ist die Menge kleiner 10, erhalten Sie keinen Rabatt (geben Sie einen entsprechenden Hinweis aus)\n",
    "\n",
    "Ist die Menge grösser gleich 10, der Gesamtpreis aber unter 100, erhalten Sie 5% Rabatt.\n",
    "\n",
    "In allen anderen Fällen erhalten Sie 10% Rabatt.\n",
    "\n",
    "In den letzten beiden Fällen berechnen Sie den verringerten Gesamtpreis und geben den entsprechenden Text aus\n",
    "\n",
    "Erweiterung: \n",
    "\n",
    "Legen Sie um den Code eine Programmschleife, die den Benutzer am Ende fragt, ob er eine weitere Bestellung eingeben will.\n",
    "\n",
    "Die Eingabe einer Artikelbezeichnung soll verpflichtend werden (also keine leere Zeichenfolge), Stückpreis und Anzahl müssen positive Zahlen sein .\n",
    "\n",
    "Passen Sie das zu dieser Aufgabe erstellte Ablaufdiagramm an."
   ]
  },
  {
   "cell_type": "code",
   "execution_count": null,
   "metadata": {},
   "outputs": [],
   "source": [
    "#Ihr Code"
   ]
  },
  {
   "cell_type": "markdown",
   "metadata": {},
   "source": [
    "Überlegen Sie mit der Person neben Ihnen (zu zweit oder dritt) eine eigene Aufgabenstellung.\n",
    "Zeichnen Sie das Ablaufdiagramm und setzen Sie die Anforderung um"
   ]
  },
  {
   "cell_type": "markdown",
   "metadata": {},
   "source": [
    "Formulieren Sie hier Ihre Aufgabenstellung"
   ]
  },
  {
   "cell_type": "code",
   "execution_count": null,
   "metadata": {},
   "outputs": [],
   "source": [
    "#Ihr Code"
   ]
  }
 ],
 "metadata": {
  "kernelspec": {
   "display_name": ".venv",
   "language": "python",
   "name": "python3"
  },
  "language_info": {
   "codemirror_mode": {
    "name": "ipython",
    "version": 3
   },
   "file_extension": ".py",
   "mimetype": "text/x-python",
   "name": "python",
   "nbconvert_exporter": "python",
   "pygments_lexer": "ipython3",
   "version": "3.13.7"
  },
  "orig_nbformat": 4
 },
 "nbformat": 4,
 "nbformat_minor": 2
}
