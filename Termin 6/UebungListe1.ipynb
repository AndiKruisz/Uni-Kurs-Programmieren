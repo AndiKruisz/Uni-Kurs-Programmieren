{
 "cells": [
  {
   "cell_type": "markdown",
   "id": "cfb80dc1",
   "metadata": {},
   "source": [
    "5 Lieblingsgerichte:"
   ]
  },
  {
   "cell_type": "code",
   "execution_count": null,
   "id": "bd8295f3",
   "metadata": {},
   "outputs": [],
   "source": [
    "lieblingsgerichte = ['Pasta','Pizza','Spargel','Schnitzel','Palatschinken']\n",
    "print(lieblingsgerichte)"
   ]
  },
  {
   "cell_type": "markdown",
   "id": "3d04e2d5",
   "metadata": {},
   "source": [
    "Mehre Indexvarianten:"
   ]
  },
  {
   "cell_type": "code",
   "execution_count": null,
   "id": "9eb297bd",
   "metadata": {},
   "outputs": [],
   "source": [
    "print(lieblingsgerichte.index('Pizza'))\n",
    "print(lieblingsgerichte[0])\n",
    "print(lieblingsgerichte[-1])\n",
    "print(lieblingsgerichte[0:2])\n"
   ]
  },
  {
   "cell_type": "markdown",
   "id": "e8720baa",
   "metadata": {},
   "source": [
    "Teilen von Sachen:"
   ]
  },
  {
   "cell_type": "code",
   "execution_count": null,
   "id": "f0433a6b",
   "metadata": {},
   "outputs": [],
   "source": [
    "print(lieblingsgerichte)\n",
    "del lieblingsgerichte[2]\n",
    "lieblingsgerichte.remove('Palatschinken')\n",
    "print(lieblingsgerichte)\n"
   ]
  }
 ],
 "metadata": {
  "kernelspec": {
   "display_name": "Python 3",
   "language": "python",
   "name": "python3"
  },
  "language_info": {
   "codemirror_mode": {
    "name": "ipython",
    "version": 3
   },
   "file_extension": ".py",
   "mimetype": "text/x-python",
   "name": "python",
   "nbconvert_exporter": "python",
   "pygments_lexer": "ipython3",
   "version": "3.13.7"
  }
 },
 "nbformat": 4,
 "nbformat_minor": 5
}
