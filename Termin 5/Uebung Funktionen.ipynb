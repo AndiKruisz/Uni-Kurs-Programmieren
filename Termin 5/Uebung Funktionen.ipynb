{
 "cells": [
  {
   "cell_type": "markdown",
   "id": "69c782cd",
   "metadata": {},
   "source": [
    "Radius Funktion"
   ]
  },
  {
   "cell_type": "code",
   "execution_count": 9,
   "id": "5a467114",
   "metadata": {},
   "outputs": [
    {
     "name": "stdout",
     "output_type": "stream",
     "text": [
      "200\n",
      "200\n"
     ]
    }
   ],
   "source": [
    "def kreisDurchmesser(radius):\n",
    "    return radius * 2\n",
    "\n",
    "radius=100\n",
    "print(kreisDurchmesser(radius))\n",
    "durchmesser=kreisDurchmesser(radius)\n",
    "print(durchmesser)"
   ]
  },
  {
   "cell_type": "markdown",
   "id": "3ebe0052",
   "metadata": {},
   "source": [
    "Das ist meine erste Funktion. Sie "
   ]
  },
  {
   "cell_type": "code",
   "execution_count": 1,
   "id": "699ea4a2",
   "metadata": {},
   "outputs": [
    {
     "name": "stdout",
     "output_type": "stream",
     "text": [
      "Hallo, Andreas!\n"
     ]
    }
   ],
   "source": [
    "def hallo(name):\n",
    "    print(f\"Hallo, {name}!\")\n",
    "\n",
    "hallo('Andreas')"
   ]
  },
  {
   "cell_type": "markdown",
   "id": "ba4d0728",
   "metadata": {},
   "source": [
    "In der zweiten Funktion zählt er mindestens 2 Zahlen zusammen."
   ]
  },
  {
   "cell_type": "code",
   "execution_count": 2,
   "id": "44366ad5",
   "metadata": {},
   "outputs": [
    {
     "data": {
      "text/plain": [
       "22"
      ]
     },
     "execution_count": 2,
     "metadata": {},
     "output_type": "execute_result"
    }
   ],
   "source": [
    "def addiere(erste_zahl, zweite_zahl, *args):\n",
    "    ergebnis=erste_zahl+zweite_zahl\n",
    "    for wert in args:\n",
    "        ergebnis+=wert\n",
    "    return ergebnis\n",
    "\n",
    "addiere(3,5,6,8)"
   ]
  },
  {
   "cell_type": "markdown",
   "id": "0d068696",
   "metadata": {},
   "source": [
    "Die dritte Funktion: Finde die kleinste Zahl bei mindestens 2 Zahlen."
   ]
  },
  {
   "cell_type": "code",
   "execution_count": 6,
   "id": "6b737e46",
   "metadata": {},
   "outputs": [
    {
     "data": {
      "text/plain": [
       "2"
      ]
     },
     "execution_count": 6,
     "metadata": {},
     "output_type": "execute_result"
    }
   ],
   "source": [
    "def kleinste_zahl(erste_zahl, zweite_zahl, *args):\n",
    "    ergebnis=min(erste_zahl, zweite_zahl)\n",
    "    for wert in args:\n",
    "        ergebnis = min(wert,ergebnis)\n",
    "    return ergebnis\n",
    "\n",
    "kleinste_zahl(3,5,9,2,7)"
   ]
  },
  {
   "cell_type": "markdown",
   "id": "d769d5be",
   "metadata": {},
   "source": [
    "Die vierte Funktion: Finde die größte Zahl bei mindestens 2 Zahlen."
   ]
  },
  {
   "cell_type": "code",
   "execution_count": 6,
   "id": "afeca70b",
   "metadata": {},
   "outputs": [
    {
     "data": {
      "text/plain": [
       "9"
      ]
     },
     "execution_count": 6,
     "metadata": {},
     "output_type": "execute_result"
    }
   ],
   "source": [
    "def groesste_zahl(*args):\n",
    "    ergebnis=max(args)\n",
    "    return ergebnis\n",
    "\n",
    "groesste_zahl(3,5,9,2,7)"
   ]
  },
  {
   "cell_type": "markdown",
   "id": "ecdfb8ef",
   "metadata": {},
   "source": [
    "Fünfte Funktion: Durchschnitt zwischen 2 oder mehr Zahlen"
   ]
  },
  {
   "cell_type": "code",
   "execution_count": 5,
   "id": "b399a5e0",
   "metadata": {},
   "outputs": [
    {
     "data": {
      "text/plain": [
       "4.666666666666667"
      ]
     },
     "execution_count": 5,
     "metadata": {},
     "output_type": "execute_result"
    }
   ],
   "source": [
    "\n",
    "def durchschnitt(*args):\n",
    "    ergebnis = sum(args)/len(args)\n",
    "    return ergebnis\n",
    "\n",
    "durchschnitt(2,4,8)"
   ]
  }
 ],
 "metadata": {
  "kernelspec": {
   "display_name": "Python 3",
   "language": "python",
   "name": "python3"
  },
  "language_info": {
   "codemirror_mode": {
    "name": "ipython",
    "version": 3
   },
   "file_extension": ".py",
   "mimetype": "text/x-python",
   "name": "python",
   "nbconvert_exporter": "python",
   "pygments_lexer": "ipython3",
   "version": "3.13.7"
  }
 },
 "nbformat": 4,
 "nbformat_minor": 5
}
