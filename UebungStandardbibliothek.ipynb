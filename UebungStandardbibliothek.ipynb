{
 "cells": [
  {
   "cell_type": "markdown",
   "metadata": {},
   "source": [
    "Ziehen Sie 10 Zufallszahlen aus dem Bereich -100 bis 100 und geben Sie diese aus"
   ]
  },
  {
   "cell_type": "code",
   "execution_count": 44,
   "metadata": {},
   "outputs": [
    {
     "name": "stdout",
     "output_type": "stream",
     "text": [
      "57\n",
      "2\n",
      "7\n",
      "-24\n",
      "-89\n",
      "-36\n",
      "30\n",
      "-94\n",
      "59\n",
      "-26\n"
     ]
    }
   ],
   "source": [
    "import random\n",
    "for i in range(0, 10):\n",
    "    zahl = random.randint(-100,100)\n",
    "    print(zahl)"
   ]
  },
  {
   "cell_type": "markdown",
   "metadata": {},
   "source": [
    "Sie wollen eine Zufallszahl ziehen, wobei Sie den Benutzer vorher fragen, aus welchem Zahlenbereich die Zufallszahl kommen soll"
   ]
  },
  {
   "cell_type": "code",
   "execution_count": 12,
   "metadata": {},
   "outputs": [
    {
     "name": "stdout",
     "output_type": "stream",
     "text": [
      "1\n"
     ]
    }
   ],
   "source": [
    "import random\n",
    "erste_zahl = input('Aus welchem Bereich soll die Zahl sein? - 1. Zahl?')\n",
    "zweite_zahl = input('Zweite Zahl?')\n",
    "zahl = random.randint(int(erste_zahl), int(zweite_zahl))\n",
    "print(zahl)"
   ]
  },
  {
   "cell_type": "markdown",
   "metadata": {},
   "source": [
    "Wenn Sie obigen Code ausführen, und für die Obergrenze eine Zahl eingeben, die kleiner als die Untergrenze ist, erhalten Sie eine Fehlermeldung.\n",
    "\n",
    "Kopieren Sie Ihren Code und passen Sie diesen so an, dass der Benutzer solange nach einer Obergrenze gefragt wird, bis diese grösser gleich der Untergrenze ist."
   ]
  },
  {
   "cell_type": "code",
   "execution_count": null,
   "metadata": {},
   "outputs": [
    {
     "name": "stdout",
     "output_type": "stream",
     "text": [
      "Fehlermeldung, die zweite Zahl muss bitte größer sein als die Erste!\n",
      "29\n"
     ]
    }
   ],
   "source": [
    "import random\n",
    "\n",
    "\n",
    "while True:\n",
    "    erste_zahl = input('Aus welchem Bereich soll die Zahl sein? - 1. Zahl?')\n",
    "    zweite_zahl = input('Zweite Zahl?')\n",
    "    if zweite_zahl <= erste_zahl:\n",
    "        print('Fehlermeldung, die zweite Zahl muss bitte größer sein als die Erste!')\n",
    "    else:\n",
    "        zahl = random.randint(int(erste_zahl), int(zweite_zahl))\n",
    "        print(zahl)\n",
    "        break"
   ]
  },
  {
   "cell_type": "markdown",
   "metadata": {},
   "source": [
    "Sie wollen Berechnungen für einen Kreis durchführen. Da Sie dafür auch die Zahl PI benötigen, importieren Sie das Modul math.\n",
    "\n",
    "Fragen Sie den Benutzer nach einem Radius (positive Dezimalzahl, falls negativ, fragen Sie nochmals).\n",
    "\n",
    "Berechnen Sie den Durchmesser (2 * radius), den Umfang (2 * radius * PI) und die Fläche (radius zum quadrat * PI) des Kreises und geben Sie die Ergebnisse auf 3 Dezimalstellen gerundet aus.\n",
    "\n",
    "Hinweis: für die Fläche können Sie die Methode math.pow() verwenden."
   ]
  },
  {
   "cell_type": "code",
   "execution_count": 52,
   "metadata": {},
   "outputs": [
    {
     "name": "stdout",
     "output_type": "stream",
     "text": [
      "Durchmesser: 10 - Umfang: 31.416 - Fläche: 314\n"
     ]
    }
   ],
   "source": [
    "import math\n",
    "\n",
    "while True:\n",
    "    radius = int(input('Bitte gib eine positive Dezimalzahl ein:'))\n",
    "    if radius < 1:\n",
    "        print('Fehlermeldung, die Zahl muss positiv sein!')\n",
    "    else:\n",
    "        durchmesser = round(2*radius, 3)\n",
    "        umfang = round(durchmesser*math.pi, 3)\n",
    "        fläche = round(math.pow(durchmesser,2)*math.pi)\n",
    "        print(f'Durchmesser: {durchmesser} - Umfang: {umfang} - Fläche: {fläche}')\n",
    "        break"
   ]
  }
 ],
 "metadata": {
  "kernelspec": {
   "display_name": "Python 3",
   "language": "python",
   "name": "python3"
  },
  "language_info": {
   "codemirror_mode": {
    "name": "ipython",
    "version": 3
   },
   "file_extension": ".py",
   "mimetype": "text/x-python",
   "name": "python",
   "nbconvert_exporter": "python",
   "pygments_lexer": "ipython3",
   "version": "3.13.7"
  },
  "orig_nbformat": 4
 },
 "nbformat": 4,
 "nbformat_minor": 2
}
