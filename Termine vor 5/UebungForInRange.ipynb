{
 "cells": [
  {
   "cell_type": "markdown",
   "metadata": {},
   "source": [
    "Zeichnen Sie für die folgenden Aufgaben das entsprechende Ablaufdiagramm, bevor Sie mit der Umsetzung beginnen."
   ]
  },
  {
   "cell_type": "markdown",
   "metadata": {},
   "source": [
    "Lösen Sie die folgenden Aufgaben mit einer For-Schleife"
   ]
  },
  {
   "cell_type": "markdown",
   "metadata": {},
   "source": [
    "Geben Sie die Zahlen -10 bis +10 in 1er-Schritten aus"
   ]
  },
  {
   "cell_type": "code",
   "execution_count": null,
   "metadata": {},
   "outputs": [],
   "source": [
    "for i in range (-10,11):\n",
    "    print(str(i))"
   ]
  },
  {
   "cell_type": "markdown",
   "metadata": {},
   "source": [
    "Geben Sie die Zahlen 100 bis 1 in 1er-Schritten absteigend aus"
   ]
  },
  {
   "cell_type": "code",
   "execution_count": null,
   "metadata": {},
   "outputs": [],
   "source": [
    "for i in range (100,0,-1):\n",
    "    print(str(i))"
   ]
  },
  {
   "cell_type": "markdown",
   "metadata": {},
   "source": [
    "Geben Sie die Zahlen 10, 20, 30, .......200 aus"
   ]
  },
  {
   "cell_type": "code",
   "execution_count": null,
   "metadata": {},
   "outputs": [],
   "source": [
    "for i in range (0,201,10):\n",
    "    print(str(i))"
   ]
  },
  {
   "cell_type": "markdown",
   "metadata": {},
   "source": [
    "Geben Sie die Zahlen 200, 190, 180, .... 10 aus"
   ]
  },
  {
   "cell_type": "code",
   "execution_count": null,
   "metadata": {},
   "outputs": [],
   "source": [
    "for i in range (200,0,-10):\n",
    "    print(str(i))"
   ]
  },
  {
   "cell_type": "markdown",
   "metadata": {},
   "source": [
    "Geben Sie die Zahlen 1 bis 100 aus, wobei Zahlen, die durch 3 oder 5 ohne Rest teilbar sind nicht ausgegeben werden sollen"
   ]
  },
  {
   "cell_type": "code",
   "execution_count": null,
   "metadata": {},
   "outputs": [],
   "source": [
    "for i in range (0,101,1):\n",
    "    if i % 3 != 0 and i % 5 !=0:\n",
    "        print(str(i))"
   ]
  },
  {
   "cell_type": "markdown",
   "metadata": {},
   "source": [
    "Sie wollen die Zahlen von 10 bis 0 bis 10 ausgeben, wobei Sie nur EINE schleife verwenden dürfen."
   ]
  },
  {
   "cell_type": "code",
   "execution_count": null,
   "metadata": {},
   "outputs": [],
   "source": [
    "for i in range (21):\n",
    "    zahl = 10 - i\n",
    "    if zahl < 0:\n",
    "        zahl = zahl*-1\n",
    "    print(zahl)\n",
    "    "
   ]
  },
  {
   "cell_type": "markdown",
   "metadata": {},
   "source": [
    "Sie wollen die Zahlen von 5 bis -5 in 1er-Schritten absteigend ausgeben. Nach Ausgabe der Zahl 0 soll der Benutzer aber gefragt werden, ob er tatsächlich auch negative Zahlen ausgeben will."
   ]
  },
  {
   "cell_type": "code",
   "execution_count": null,
   "metadata": {},
   "outputs": [],
   "source": [
    "for i in range (11):\n",
    "    zahl = 5 - i\n",
    "    if zahl == -1:\n",
    "        entscheidung = input('Soll ich weitermachen? J/N')\n",
    "        if entscheidung == 'N':\n",
    "            break\n",
    "    print(zahl)\n",
    "    "
   ]
  },
  {
   "cell_type": "markdown",
   "metadata": {},
   "source": [
    "Sie wollen das kleine Einmaleins für die Zahlen 1 bis 10 darstellen.\n",
    "\n",
    "Wer nicht weiss, was das kleine Einmaleins ist: man beginnt mit 1 * 1, dann 1 * 2, dann 1 * 3 ,......bis 1 * 10.\n",
    "\n",
    "Dann setzt man das ganze mit 2 * 1, 2 * 2, 2 * 3, ....... bis 2 * 10 fort.\n",
    "\n",
    "Das ganze geht weiter, bis man bei 10*10 angekommen ist.\n",
    "\n",
    "Die Ausgabe soll beispielhaft für eine Berechnung so aussehen: 1 * 1 = 1"
   ]
  },
  {
   "cell_type": "code",
   "execution_count": null,
   "metadata": {},
   "outputs": [],
   "source": [
    "for i in range(1, 11):\n",
    "    for j in range(1, 11):\n",
    "        #ergebnis = i * j\n",
    "        print(f\"{i} * {j} = {i * j}\")\n"
   ]
  },
  {
   "cell_type": "markdown",
   "metadata": {},
   "source": [
    "Erweiterung 1: Legen Sie um das Einmaleins-Beispiel im vorherigen Codeblock eine Programmschleife, die den Benutzer fragt, ob er die Ausgabe wiederholen soll (hier bietet sich natürlich wieder eine while-Schleife an)"
   ]
  },
  {
   "cell_type": "markdown",
   "metadata": {},
   "source": [
    "Erweiterung 2: Kopieren Sie Ihren Code des Einmaleins in den folgenden Codeblock. Passen Sie Ihren Code so an, dass die von- und die bis-Zahl vom Benutzer eingelesen wird.\n",
    "\n",
    "Gibt der Benutzer z. B. 5 und 15 ein, so beginnt die Berechnung entsprechend mit 5 * 5, 6 * 6, .....5 * 15 und geht weiter mit 6 * 5, 6 * 6, ....."
   ]
  },
  {
   "cell_type": "code",
   "execution_count": null,
   "metadata": {},
   "outputs": [],
   "source": [
    "#Ihr Code"
   ]
  },
  {
   "cell_type": "markdown",
   "metadata": {},
   "source": [
    "Überlegen Sie mit der Person neben Ihnen (zu zweit oder dritt) eine eigene Aufgabenstellung.\n",
    "Zeichnen Sie das Ablaufdiagramm und setzen Sie die Anforderung um"
   ]
  },
  {
   "cell_type": "markdown",
   "metadata": {},
   "source": [
    "Formulieren Sie hier Ihre Aufgabenstellung"
   ]
  },
  {
   "cell_type": "code",
   "execution_count": null,
   "metadata": {},
   "outputs": [],
   "source": [
    "#Ihr Code"
   ]
  }
 ],
 "metadata": {
  "kernelspec": {
   "display_name": "Python 3",
   "language": "python",
   "name": "python3"
  },
  "language_info": {
   "codemirror_mode": {
    "name": "ipython",
    "version": 3
   },
   "file_extension": ".py",
   "mimetype": "text/x-python",
   "name": "python",
   "nbconvert_exporter": "python",
   "pygments_lexer": "ipython3",
   "version": "3.13.7"
  },
  "orig_nbformat": 4
 },
 "nbformat": 4,
 "nbformat_minor": 2
}
